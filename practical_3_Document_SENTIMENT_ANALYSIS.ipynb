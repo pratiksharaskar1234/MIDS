{
 "cells": [
  {
   "cell_type": "code",
   "execution_count": 1,
   "id": "48e36048-74b0-4507-ac4a-e0969b35e2d6",
   "metadata": {},
   "outputs": [
    {
     "name": "stdout",
     "output_type": "stream",
     "text": [
      "Positive Document\n"
     ]
    }
   ],
   "source": [
    " positive_words = {\"good\", \"happy\", \"excellent\", \"awesome\", \"fantastic\", \"positive\", \"love\", \"great\", \"nice\", \"amazing\"}\n",
    " negative_words = {\"bad\", \"sad\", \"terrible\", \"awful\", \"worst\", \"negative\", \"hate\", \"poor\", \"horrible\", \"disappointing\"}\n",
    " def classify_document(text):\n",
    "    words = text.lower().split()\n",
    "    positive_count = sum(1 for word in words if word in positive_words)\n",
    "    negative_count = sum(1 for word in words if word in negative_words)\n",
    "\n",
    "    if positive_count > negative_count:\n",
    "        return \"Positive Document\"\n",
    "    elif negative_count > positive_count:\n",
    "        return \"Negative Document\"\n",
    "    else:\n",
    "        return \"Neutral Document\"\n",
    "\n",
    "document = \"The movie was amazing and awful, but had some moments.\"\n",
    "result = classify_document(document)\n",
    "print(result)"
   ]
  },
  {
   "cell_type": "code",
   "execution_count": null,
   "id": "097ac272-a076-4a97-a5cb-d6a203c4b299",
   "metadata": {},
   "outputs": [],
   "source": []
  },
  {
   "cell_type": "code",
   "execution_count": null,
   "id": "c8caac98-878f-46d8-8b05-cbab07234613",
   "metadata": {},
   "outputs": [],
   "source": []
  }
 ],
 "metadata": {
  "kernelspec": {
   "display_name": "Python 3 (ipykernel)",
   "language": "python",
   "name": "python3"
  },
  "language_info": {
   "codemirror_mode": {
    "name": "ipython",
    "version": 3
   },
   "file_extension": ".py",
   "mimetype": "text/x-python",
   "name": "python",
   "nbconvert_exporter": "python",
   "pygments_lexer": "ipython3",
   "version": "3.10.0"
  }
 },
 "nbformat": 4,
 "nbformat_minor": 5
}
