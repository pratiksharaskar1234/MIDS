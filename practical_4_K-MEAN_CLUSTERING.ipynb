{
 "cells": [
  {
   "cell_type": "markdown",
   "id": "23f27e6c",
   "metadata": {},
   "source": [
    "We have given a collection of 8 points.  \n",
    "P1=[0.1,0.6]  \n",
    "P2=[0.15,0.71]  \n",
    "P3=[0.08,0.9]  \n",
    "P4=[0.16, 0.85]  \n",
    "P5=[0.2,0.3]  \n",
    "P6=[0.25,0.5]  \n",
    "P7=[0.24,0.1]  \n",
    "P8=[0.3,0.2] \n",
    "Perform the k-mean clustering with initial centroids as m1=P1 =Cluster#1=C1 and \n",
    "m2=P8=cluster#2=C2.  \n",
    "Answer the following  \n",
    "1] Which cluster does P6 belong to? \n",
    "2] What is the population of cluster around m2?  \n",
    "3] What is updated value of m1 and m2?"
   ]
  },
  {
   "cell_type": "code",
   "execution_count": 1,
   "id": "8b710032-b938-4953-ba78-8242b58c9040",
   "metadata": {},
   "outputs": [
    {
     "name": "stdout",
     "output_type": "stream",
     "text": [
      "K-Means Clustering Results\n",
      "1.P6 belongs to cluster: C1\n",
      "2.Population around m2 (C2): 3\n",
      "3.Updated Centroids:\n",
      "   m1 = [0.148 0.712]\n",
      "   m2 = [0.24666667 0.2       ]\n",
      "\n",
      " Final Cluster Assignments:\n",
      "C1 (Cluster 1): ['P1', 'P2', 'P3', 'P4', 'P6']\n",
      "C2 (Cluster 2): ['P5', 'P7', 'P8']\n"
     ]
    }
   ],
   "source": [
    "import numpy as np\n",
    "\n",
    "points = {\n",
    "    \"P1\": [0.1, 0.6], \"P2\": [0.15, 0.71], \"P3\": [0.08, 0.9], \"P4\": [0.16, 0.85], \n",
    "    \"P5\": [0.2, 0.3], \"P6\": [0.25, 0.5], \"P7\": [0.24, 0.1], \"P8\": [0.3, 0.2]\n",
    "}\n",
    "m1 = np.array(points[\"P1\"])  # Cluster C1\n",
    "m2 = np.array(points[\"P8\"])  # Cluster C2\n",
    "\n",
    "def euclidean_distance(p1, p2):\n",
    "    return np.sqrt(np.sum((np.array(p1) - np.array(p2))**2))\n",
    "def assign_clusters(m1, m2):\n",
    "    clusters = {\"C1\": [], \"C2\": []}\n",
    "    \n",
    "    for point, coords in points.items():\n",
    "        d1 = euclidean_distance(coords, m1)\n",
    "        d2 = euclidean_distance(coords, m2)\n",
    "        \n",
    "        if d1 < d2:\n",
    "            clusters[\"C1\"].append(point)\n",
    "        else:\n",
    "            clusters[\"C2\"].append(point)\n",
    "    \n",
    "    return clusters\n",
    "\n",
    "clusters = assign_clusters(m1, m2)\n",
    "def compute_new_centroid(cluster_points):\n",
    "    if not cluster_points:\n",
    "        return None\n",
    "    cluster_coords = [points[p] for p in cluster_points]\n",
    "    return np.mean(cluster_coords, axis=0)\n",
    "\n",
    "new_m1 = compute_new_centroid(clusters[\"C1\"])\n",
    "new_m2 = compute_new_centroid(clusters[\"C2\"])\n",
    "\n",
    "P6_cluster = \"C1\" if \"P6\" in clusters[\"C1\"] else \"C2\"\n",
    "population_C2 = len(clusters[\"C2\"])\n",
    "\n",
    "print(\"K-Means Clustering Results\")\n",
    "print(f\"1.P6 belongs to cluster: {P6_cluster}\")\n",
    "print(f\"2.Population around m2 (C2): {population_C2}\")\n",
    "print(f\"3.Updated Centroids:\\n   m1 = {new_m1}\\n   m2 = {new_m2}\")\n",
    "\n",
    "print(\"\\n Final Cluster Assignments:\")\n",
    "print(f\"C1 (Cluster 1): {clusters['C1']}\")\n",
    "print(f\"C2 (Cluster 2): {clusters['C2']}\")\n"
   ]
  },
  {
   "cell_type": "markdown",
   "id": "9c5baaa4",
   "metadata": {},
   "source": []
  },
  {
   "cell_type": "markdown",
   "id": "0833ab73",
   "metadata": {},
   "source": []
  },
  {
   "cell_type": "code",
   "execution_count": null,
   "id": "ea02a6fb-c201-4719-9221-734ff77a696b",
   "metadata": {},
   "outputs": [],
   "source": []
  }
 ],
 "metadata": {
  "kernelspec": {
   "display_name": "Python 3 (ipykernel)",
   "language": "python",
   "name": "python3"
  },
  "language_info": {
   "codemirror_mode": {
    "name": "ipython",
    "version": 3
   },
   "file_extension": ".py",
   "mimetype": "text/x-python",
   "name": "python",
   "nbconvert_exporter": "python",
   "pygments_lexer": "ipython3",
   "version": "3.10.0"
  }
 },
 "nbformat": 4,
 "nbformat_minor": 5
}
